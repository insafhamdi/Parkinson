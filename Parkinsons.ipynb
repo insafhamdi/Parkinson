{
  "nbformat": 4,
  "nbformat_minor": 0,
  "metadata": {
    "colab": {
      "provenance": [],
      "gpuType": "T4",
      "authorship_tag": "ABX9TyMeK7n93IT4wGZ0lcpTMwUh",
      "include_colab_link": true
    },
    "kernelspec": {
      "name": "python3",
      "display_name": "Python 3"
    },
    "language_info": {
      "name": "python"
    },
    "accelerator": "GPU"
  },
  "cells": [
    {
      "cell_type": "markdown",
      "metadata": {
        "id": "view-in-github",
        "colab_type": "text"
      },
      "source": [
        "<a href=\"https://colab.research.google.com/github/insafhamdi/Parkinson/blob/main/Parkinsons.ipynb\" target=\"_parent\"><img src=\"https://colab.research.google.com/assets/colab-badge.svg\" alt=\"Open In Colab\"/></a>"
      ]
    },
    {
      "cell_type": "markdown",
      "source": [
        "#1. Importation des bibliothèques nécessaires"
      ],
      "metadata": {
        "id": "cGPlATurUFOH"
      }
    },
    {
      "cell_type": "code",
      "source": [
        "!pip install skfeature-chappers\n"
      ],
      "metadata": {
        "colab": {
          "base_uri": "https://localhost:8080/"
        },
        "id": "kkQzGiTIV4-9",
        "outputId": "00f577fd-9bd8-4313-adbe-d45d606f1510"
      },
      "execution_count": 20,
      "outputs": [
        {
          "output_type": "stream",
          "name": "stdout",
          "text": [
            "Requirement already satisfied: skfeature-chappers in /usr/local/lib/python3.10/dist-packages (1.1.0)\n",
            "Requirement already satisfied: scikit-learn in /usr/local/lib/python3.10/dist-packages (from skfeature-chappers) (1.0.2)\n",
            "Requirement already satisfied: pandas in /usr/local/lib/python3.10/dist-packages (from skfeature-chappers) (2.2.2)\n",
            "Requirement already satisfied: numpy in /usr/local/lib/python3.10/dist-packages (from skfeature-chappers) (1.26.4)\n",
            "Requirement already satisfied: python-dateutil>=2.8.2 in /usr/local/lib/python3.10/dist-packages (from pandas->skfeature-chappers) (2.8.2)\n",
            "Requirement already satisfied: pytz>=2020.1 in /usr/local/lib/python3.10/dist-packages (from pandas->skfeature-chappers) (2024.2)\n",
            "Requirement already satisfied: tzdata>=2022.7 in /usr/local/lib/python3.10/dist-packages (from pandas->skfeature-chappers) (2024.2)\n",
            "Requirement already satisfied: scipy>=1.1.0 in /usr/local/lib/python3.10/dist-packages (from scikit-learn->skfeature-chappers) (1.13.1)\n",
            "Requirement already satisfied: joblib>=0.11 in /usr/local/lib/python3.10/dist-packages (from scikit-learn->skfeature-chappers) (1.4.2)\n",
            "Requirement already satisfied: threadpoolctl>=2.0.0 in /usr/local/lib/python3.10/dist-packages (from scikit-learn->skfeature-chappers) (3.5.0)\n",
            "Requirement already satisfied: six>=1.5 in /usr/local/lib/python3.10/dist-packages (from python-dateutil>=2.8.2->pandas->skfeature-chappers) (1.17.0)\n"
          ]
        }
      ]
    },
    {
      "cell_type": "code",
      "execution_count": 21,
      "metadata": {
        "id": "lo7ucQMuUEGa"
      },
      "outputs": [],
      "source": [
        "import pandas as pd\n",
        "import numpy as np\n",
        "import matplotlib.pyplot as plt\n",
        "import seaborn as sns\n",
        "\n",
        "# Modèles et métriques\n",
        "from sklearn.model_selection import train_test_split, cross_val_score\n",
        "from sklearn.ensemble import RandomForestClassifier, BaggingClassifier\n",
        "from xgboost import XGBClassifier\n",
        "from sklearn.metrics import accuracy_score, confusion_matrix, f1_score\n",
        "\n",
        "# Normalisation\n",
        "from sklearn.preprocessing import StandardScaler\n",
        "\n",
        "# Feature selection\n",
        "from skfeature.function.similarity_based import fisher_score\n"
      ]
    },
    {
      "cell_type": "markdown",
      "source": [
        "2. Chargement et exploration des données\n",
        "python\n",
        "Copier le code\n"
      ],
      "metadata": {
        "id": "zQQ0KhaCUK3M"
      }
    },
    {
      "cell_type": "code",
      "source": [
        "# Charger les données\n",
        "data = pd.read_csv(\"/content/pd_speech_features.csv\", header=None)\n",
        "\n",
        "# Aperçu des données\n",
        "print(data.head())\n",
        "print(data.describe())\n",
        "print(data.info())\n",
        "\n",
        "# Vérifier les valeurs manquantes\n",
        "print(data.isnull().sum())\n"
      ],
      "metadata": {
        "colab": {
          "base_uri": "https://localhost:8080/"
        },
        "id": "cYtbA-uwUMO3",
        "outputId": "6d204628-e6a1-4de9-b603-c297dce10a7d"
      },
      "execution_count": 22,
      "outputs": [
        {
          "output_type": "stream",
          "name": "stdout",
          "text": [
            "   0       1                  2        3        4          5    \\\n",
            "0  NaN     NaN  Baseline Features      NaN      NaN        NaN   \n",
            "1   id  gender                PPE      DFA     RPDE  numPulses   \n",
            "2    0       1            0.85247  0.71826  0.57227        240   \n",
            "3    0       1            0.76686  0.69481  0.53966        234   \n",
            "4    0       1            0.85083  0.67604  0.58982        232   \n",
            "\n",
            "                6                 7                   8             9    ...  \\\n",
            "0               NaN               NaN                 NaN           NaN  ...   \n",
            "1  numPeriodsPulses  meanPeriodPulses  stdDevPeriodPulses  locPctJitter  ...   \n",
            "2               239        0.00806353            8.68E-05       0.00218  ...   \n",
            "3               233       0.008258256            7.31E-05       0.00195  ...   \n",
            "4               231        0.00833959            6.04E-05       0.00176  ...   \n",
            "\n",
            "                         745                        746  \\\n",
            "0                        NaN                        NaN   \n",
            "1  tqwt_kurtosisValue_dec_28  tqwt_kurtosisValue_dec_29   \n",
            "2                      1.562                     2.6445   \n",
            "3                     1.5589                     3.6107   \n",
            "4                     1.5643                     2.3308   \n",
            "\n",
            "                         747                        748  \\\n",
            "0                        NaN                        NaN   \n",
            "1  tqwt_kurtosisValue_dec_30  tqwt_kurtosisValue_dec_31   \n",
            "2                     3.8686                     4.2105   \n",
            "3                    23.5155                    14.1962   \n",
            "4                     9.4959                    10.7458   \n",
            "\n",
            "                         749                        750  \\\n",
            "0                        NaN                        NaN   \n",
            "1  tqwt_kurtosisValue_dec_32  tqwt_kurtosisValue_dec_33   \n",
            "2                     5.1221                     4.4625   \n",
            "3                    11.0261                     9.5082   \n",
            "4                    11.0177                     4.8066   \n",
            "\n",
            "                         751                        752  \\\n",
            "0                        NaN                        NaN   \n",
            "1  tqwt_kurtosisValue_dec_34  tqwt_kurtosisValue_dec_35   \n",
            "2                     2.6202                     3.0004   \n",
            "3                     6.5245                     6.3431   \n",
            "4                     2.9199                     3.1495   \n",
            "\n",
            "                         753    754  \n",
            "0                        NaN    NaN  \n",
            "1  tqwt_kurtosisValue_dec_36  class  \n",
            "2                    18.9405      1  \n",
            "3                     45.178      1  \n",
            "4                     4.7666      1  \n",
            "\n",
            "[5 rows x 755 columns]\n",
            "        0    1        2        3        4    5    6            7         8    \\\n",
            "count   757  757      758      757      757  757  757          757       757   \n",
            "unique  253    3      742      746      749  316  320          756       647   \n",
            "top     125    1  0.82273  0.80616  0.45816  237  236  0.006004477  3.88E-05   \n",
            "freq      3  390        3        2        2    9    8            2         3   \n",
            "\n",
            "            9    ...     745     746     747     748     749     750     751  \\\n",
            "count       757  ...     757     757     757     757     757     757     757   \n",
            "unique      359  ...     750     756     753     754     750     753     754   \n",
            "top     0.00076  ...  1.5382  4.0251  2.8454  4.2105  4.2973  3.1144  12.595   \n",
            "freq          9  ...       2       2       2       2       2       2       2   \n",
            "\n",
            "           752      753  754  \n",
            "count      757      757  757  \n",
            "unique     754      755    3  \n",
            "top     4.2391  10.0693    1  \n",
            "freq         2        2  564  \n",
            "\n",
            "[4 rows x 755 columns]\n",
            "<class 'pandas.core.frame.DataFrame'>\n",
            "RangeIndex: 758 entries, 0 to 757\n",
            "Columns: 755 entries, 0 to 754\n",
            "dtypes: object(755)\n",
            "memory usage: 4.4+ MB\n",
            "None\n",
            "0      1\n",
            "1      1\n",
            "2      0\n",
            "3      1\n",
            "4      1\n",
            "      ..\n",
            "750    1\n",
            "751    1\n",
            "752    1\n",
            "753    1\n",
            "754    1\n",
            "Length: 755, dtype: int64\n"
          ]
        }
      ]
    },
    {
      "cell_type": "markdown",
      "source": [
        "#3. Analyse exploratoire des données\n"
      ],
      "metadata": {
        "id": "CZXgQ074UTsN"
      }
    },
    {
      "cell_type": "code",
      "source": [
        "print(data.columns)\n"
      ],
      "metadata": {
        "colab": {
          "base_uri": "https://localhost:8080/"
        },
        "id": "MJUz-bTJUV_w",
        "outputId": "3ebc1a97-196d-4a62-a7b3-8e5e12465242"
      },
      "execution_count": 23,
      "outputs": [
        {
          "output_type": "stream",
          "name": "stdout",
          "text": [
            "Index([  0,   1,   2,   3,   4,   5,   6,   7,   8,   9,\n",
            "       ...\n",
            "       745, 746, 747, 748, 749, 750, 751, 752, 753, 754],\n",
            "      dtype='int64', length=755)\n"
          ]
        }
      ]
    },
    {
      "cell_type": "code",
      "source": [
        "print(data.head())\n"
      ],
      "metadata": {
        "colab": {
          "base_uri": "https://localhost:8080/"
        },
        "id": "_8ShTGoUXlVQ",
        "outputId": "75fd85c9-c832-4623-a723-99c275df7a5b"
      },
      "execution_count": 24,
      "outputs": [
        {
          "output_type": "stream",
          "name": "stdout",
          "text": [
            "   0       1                  2        3        4          5    \\\n",
            "0  NaN     NaN  Baseline Features      NaN      NaN        NaN   \n",
            "1   id  gender                PPE      DFA     RPDE  numPulses   \n",
            "2    0       1            0.85247  0.71826  0.57227        240   \n",
            "3    0       1            0.76686  0.69481  0.53966        234   \n",
            "4    0       1            0.85083  0.67604  0.58982        232   \n",
            "\n",
            "                6                 7                   8             9    ...  \\\n",
            "0               NaN               NaN                 NaN           NaN  ...   \n",
            "1  numPeriodsPulses  meanPeriodPulses  stdDevPeriodPulses  locPctJitter  ...   \n",
            "2               239        0.00806353            8.68E-05       0.00218  ...   \n",
            "3               233       0.008258256            7.31E-05       0.00195  ...   \n",
            "4               231        0.00833959            6.04E-05       0.00176  ...   \n",
            "\n",
            "                         745                        746  \\\n",
            "0                        NaN                        NaN   \n",
            "1  tqwt_kurtosisValue_dec_28  tqwt_kurtosisValue_dec_29   \n",
            "2                      1.562                     2.6445   \n",
            "3                     1.5589                     3.6107   \n",
            "4                     1.5643                     2.3308   \n",
            "\n",
            "                         747                        748  \\\n",
            "0                        NaN                        NaN   \n",
            "1  tqwt_kurtosisValue_dec_30  tqwt_kurtosisValue_dec_31   \n",
            "2                     3.8686                     4.2105   \n",
            "3                    23.5155                    14.1962   \n",
            "4                     9.4959                    10.7458   \n",
            "\n",
            "                         749                        750  \\\n",
            "0                        NaN                        NaN   \n",
            "1  tqwt_kurtosisValue_dec_32  tqwt_kurtosisValue_dec_33   \n",
            "2                     5.1221                     4.4625   \n",
            "3                    11.0261                     9.5082   \n",
            "4                    11.0177                     4.8066   \n",
            "\n",
            "                         751                        752  \\\n",
            "0                        NaN                        NaN   \n",
            "1  tqwt_kurtosisValue_dec_34  tqwt_kurtosisValue_dec_35   \n",
            "2                     2.6202                     3.0004   \n",
            "3                     6.5245                     6.3431   \n",
            "4                     2.9199                     3.1495   \n",
            "\n",
            "                         753    754  \n",
            "0                        NaN    NaN  \n",
            "1  tqwt_kurtosisValue_dec_36  class  \n",
            "2                    18.9405      1  \n",
            "3                     45.178      1  \n",
            "4                     4.7666      1  \n",
            "\n",
            "[5 rows x 755 columns]\n"
          ]
        }
      ]
    },
    {
      "cell_type": "code",
      "source": [
        "data.columns = [f'feature_{i}' for i in range(data.shape[1])]\n",
        "print(data.head())\n"
      ],
      "metadata": {
        "colab": {
          "base_uri": "https://localhost:8080/"
        },
        "id": "n8dDT5ZrXo4D",
        "outputId": "f7c80f52-e2fe-4701-aa6c-f390a93390f7"
      },
      "execution_count": 25,
      "outputs": [
        {
          "output_type": "stream",
          "name": "stdout",
          "text": [
            "  feature_0 feature_1          feature_2 feature_3 feature_4  feature_5  \\\n",
            "0       NaN       NaN  Baseline Features       NaN       NaN        NaN   \n",
            "1        id    gender                PPE       DFA      RPDE  numPulses   \n",
            "2         0         1            0.85247   0.71826   0.57227        240   \n",
            "3         0         1            0.76686   0.69481   0.53966        234   \n",
            "4         0         1            0.85083   0.67604   0.58982        232   \n",
            "\n",
            "          feature_6         feature_7           feature_8     feature_9  ...  \\\n",
            "0               NaN               NaN                 NaN           NaN  ...   \n",
            "1  numPeriodsPulses  meanPeriodPulses  stdDevPeriodPulses  locPctJitter  ...   \n",
            "2               239        0.00806353            8.68E-05       0.00218  ...   \n",
            "3               233       0.008258256            7.31E-05       0.00195  ...   \n",
            "4               231        0.00833959            6.04E-05       0.00176  ...   \n",
            "\n",
            "                 feature_745                feature_746  \\\n",
            "0                        NaN                        NaN   \n",
            "1  tqwt_kurtosisValue_dec_28  tqwt_kurtosisValue_dec_29   \n",
            "2                      1.562                     2.6445   \n",
            "3                     1.5589                     3.6107   \n",
            "4                     1.5643                     2.3308   \n",
            "\n",
            "                 feature_747                feature_748  \\\n",
            "0                        NaN                        NaN   \n",
            "1  tqwt_kurtosisValue_dec_30  tqwt_kurtosisValue_dec_31   \n",
            "2                     3.8686                     4.2105   \n",
            "3                    23.5155                    14.1962   \n",
            "4                     9.4959                    10.7458   \n",
            "\n",
            "                 feature_749                feature_750  \\\n",
            "0                        NaN                        NaN   \n",
            "1  tqwt_kurtosisValue_dec_32  tqwt_kurtosisValue_dec_33   \n",
            "2                     5.1221                     4.4625   \n",
            "3                    11.0261                     9.5082   \n",
            "4                    11.0177                     4.8066   \n",
            "\n",
            "                 feature_751                feature_752  \\\n",
            "0                        NaN                        NaN   \n",
            "1  tqwt_kurtosisValue_dec_34  tqwt_kurtosisValue_dec_35   \n",
            "2                     2.6202                     3.0004   \n",
            "3                     6.5245                     6.3431   \n",
            "4                     2.9199                     3.1495   \n",
            "\n",
            "                 feature_753 feature_754  \n",
            "0                        NaN         NaN  \n",
            "1  tqwt_kurtosisValue_dec_36       class  \n",
            "2                    18.9405           1  \n",
            "3                     45.178           1  \n",
            "4                     4.7666           1  \n",
            "\n",
            "[5 rows x 755 columns]\n"
          ]
        }
      ]
    },
    {
      "cell_type": "code",
      "source": [
        "# Use the second row as the header\n",
        "data.columns = data.iloc[1]\n",
        "# Drop the first two rows as they are now redundant\n",
        "data = data.iloc[2:]\n",
        "# Reset the index\n",
        "data.reset_index(drop=True, inplace=True)\n"
      ],
      "metadata": {
        "id": "s5mG4uu9X6i8"
      },
      "execution_count": 26,
      "outputs": []
    },
    {
      "cell_type": "code",
      "source": [
        "data.rename(columns={'class': 'status'}, inplace=True)\n"
      ],
      "metadata": {
        "colab": {
          "base_uri": "https://localhost:8080/"
        },
        "id": "qijSo01bX8Wn",
        "outputId": "07fbe010-301e-41b7-8c27-1272ad901373"
      },
      "execution_count": 27,
      "outputs": [
        {
          "output_type": "stream",
          "name": "stderr",
          "text": [
            "<ipython-input-27-348a367be2e9>:1: SettingWithCopyWarning: \n",
            "A value is trying to be set on a copy of a slice from a DataFrame\n",
            "\n",
            "See the caveats in the documentation: https://pandas.pydata.org/pandas-docs/stable/user_guide/indexing.html#returning-a-view-versus-a-copy\n",
            "  data.rename(columns={'class': 'status'}, inplace=True)\n"
          ]
        }
      ]
    },
    {
      "cell_type": "code",
      "source": [
        "print(data.head())\n",
        "print(data.columns)\n"
      ],
      "metadata": {
        "colab": {
          "base_uri": "https://localhost:8080/"
        },
        "id": "Or5sOr-5YAZ2",
        "outputId": "5ac1a428-276c-40bd-f62e-2a8c023f660d"
      },
      "execution_count": 28,
      "outputs": [
        {
          "output_type": "stream",
          "name": "stdout",
          "text": [
            "1 id gender      PPE      DFA     RPDE numPulses numPeriodsPulses  \\\n",
            "0  0      1  0.85247  0.71826  0.57227       240              239   \n",
            "1  0      1  0.76686  0.69481  0.53966       234              233   \n",
            "2  0      1  0.85083  0.67604  0.58982       232              231   \n",
            "3  1      0  0.41121  0.79672  0.59257       178              177   \n",
            "4  1      0   0.3279  0.79782  0.53028       236              235   \n",
            "\n",
            "1 meanPeriodPulses stdDevPeriodPulses locPctJitter  ...  \\\n",
            "0       0.00806353           8.68E-05      0.00218  ...   \n",
            "1      0.008258256           7.31E-05      0.00195  ...   \n",
            "2       0.00833959           6.04E-05      0.00176  ...   \n",
            "3      0.010857733        0.000182739      0.00419  ...   \n",
            "4      0.008161574        0.002668863      0.00535  ...   \n",
            "\n",
            "1 tqwt_kurtosisValue_dec_28 tqwt_kurtosisValue_dec_29  \\\n",
            "0                     1.562                    2.6445   \n",
            "1                    1.5589                    3.6107   \n",
            "2                    1.5643                    2.3308   \n",
            "3                    3.7805                    3.5664   \n",
            "4                    6.1727                    5.8416   \n",
            "\n",
            "1 tqwt_kurtosisValue_dec_30 tqwt_kurtosisValue_dec_31  \\\n",
            "0                    3.8686                    4.2105   \n",
            "1                   23.5155                   14.1962   \n",
            "2                    9.4959                   10.7458   \n",
            "3                    5.2558                   14.0403   \n",
            "4                    6.0805                    5.7621   \n",
            "\n",
            "1 tqwt_kurtosisValue_dec_32 tqwt_kurtosisValue_dec_33  \\\n",
            "0                    5.1221                    4.4625   \n",
            "1                   11.0261                    9.5082   \n",
            "2                   11.0177                    4.8066   \n",
            "3                    4.2235                    4.6857   \n",
            "4                    7.7817                   11.6891   \n",
            "\n",
            "1 tqwt_kurtosisValue_dec_34 tqwt_kurtosisValue_dec_35  \\\n",
            "0                    2.6202                    3.0004   \n",
            "1                    6.5245                    6.3431   \n",
            "2                    2.9199                    3.1495   \n",
            "3                     4.846                     6.265   \n",
            "4                    8.2103                    5.0559   \n",
            "\n",
            "1 tqwt_kurtosisValue_dec_36 status  \n",
            "0                   18.9405      1  \n",
            "1                    45.178      1  \n",
            "2                    4.7666      1  \n",
            "3                    4.0603      1  \n",
            "4                    6.1164      1  \n",
            "\n",
            "[5 rows x 755 columns]\n",
            "Index(['id', 'gender', 'PPE', 'DFA', 'RPDE', 'numPulses', 'numPeriodsPulses',\n",
            "       'meanPeriodPulses', 'stdDevPeriodPulses', 'locPctJitter',\n",
            "       ...\n",
            "       'tqwt_kurtosisValue_dec_28', 'tqwt_kurtosisValue_dec_29',\n",
            "       'tqwt_kurtosisValue_dec_30', 'tqwt_kurtosisValue_dec_31',\n",
            "       'tqwt_kurtosisValue_dec_32', 'tqwt_kurtosisValue_dec_33',\n",
            "       'tqwt_kurtosisValue_dec_34', 'tqwt_kurtosisValue_dec_35',\n",
            "       'tqwt_kurtosisValue_dec_36', 'status'],\n",
            "      dtype='object', name=1, length=755)\n"
          ]
        }
      ]
    },
    {
      "cell_type": "code",
      "source": [
        "sns.countplot(x='status', data=data)\n",
        "plt.title(\"Distribution des classes (sains vs malades)\")\n",
        "plt.xlabel(\"Classes\")\n",
        "plt.ylabel(\"Nombre d'échantillons\")\n",
        "plt.show()\n"
      ],
      "metadata": {
        "colab": {
          "base_uri": "https://localhost:8080/",
          "height": 472
        },
        "id": "pooRKkMxYES0",
        "outputId": "ef9d5ecd-c31f-4ae0-aa4e-8ce33be7d7e1"
      },
      "execution_count": 29,
      "outputs": [
        {
          "output_type": "display_data",
          "data": {
            "text/plain": [
              "<Figure size 640x480 with 1 Axes>"
            ],
            "image/png": "[encoded data removed]"
          },
          "metadata": {}
        }
      ]
    },
    {
      "cell_type": "markdown",
      "source": [
        "#4. Prétraitement des données\n"
      ],
      "metadata": {
        "id": "iqTy3GWyUkNB"
      }
    },
    {
      "cell_type": "code",
      "source": [
        "# Suppression de colonnes non pertinentes\n",
        "data = data.drop(columns=['id'])  # Add/remove columns as necessary\n",
        "\n",
        "# Séparation des features et de la cible\n",
        "X = data.drop(columns=['status'])\n",
        "y = data['status']\n",
        "\n",
        "# Normalisation des données\n",
        "scaler = StandardScaler()\n",
        "X_scaled = scaler.fit_transform(X)\n"
      ],
      "metadata": {
        "id": "dWZg4qSyUpHy"
      },
      "execution_count": 30,
      "outputs": []
    },
    {
      "cell_type": "markdown",
      "source": [
        "#5. Sélection des features avec Fisher Score\n",
        "\n"
      ],
      "metadata": {
        "id": "1_vydLu8U7ck"
      }
    },
    {
      "cell_type": "code",
      "source": [
        "import numpy as np\n",
        "from sklearn.preprocessing import StandardScaler\n",
        "\n",
        "# Ensure X_scaled is a numpy array (if it's still a pandas DataFrame)\n",
        "X_scaled = np.array(X_scaled)\n",
        "\n",
        "# Ensure y is a numpy array\n",
        "y = np.array(y)\n",
        "\n",
        "# Calcul des scores Fisher\n",
        "scores = fisher_score.fisher_score(X_scaled, y)\n",
        "\n",
        "# Sélection des 10 meilleures features\n",
        "top_features_indices = np.argsort(scores)[-10:]\n",
        "\n",
        "# Sélectionner les meilleures features de X_scaled\n",
        "X_selected = X_scaled[:, top_features_indices]\n",
        "\n",
        "# Accéder aux noms des colonnes correspondantes aux meilleures features (si vous avez toujours le DataFrame original)\n",
        "top_feature_names = data.columns[top_features_indices]\n",
        "\n",
        "print(\"Top 10 features sélectionnées:\", top_feature_names)\n"
      ],
      "metadata": {
        "colab": {
          "base_uri": "https://localhost:8080/"
        },
        "id": "A2nNNFlYVB3W",
        "outputId": "38fbd52a-f8d1-4eb6-c505-50eaade5af4c"
      },
      "execution_count": 31,
      "outputs": [
        {
          "output_type": "stream",
          "name": "stdout",
          "text": [
            "Top 10 features sélectionnées: Index(['app_det_TKEO_mean_10_coef', 'app_det_TKEO_mean_7_coef',\n",
            "       'tqwt_TKEO_mean_dec_7', 'app_entropy_log_8_coef',\n",
            "       'mean_1st_delta_delta', 'mean_delta_delta_0th',\n",
            "       'det_entropy_log_5_coef', 'VFER_SNR_TKEO', 'tqwt_TKEO_mean_dec_10',\n",
            "       'det_LT_entropy_shannon_3_coef'],\n",
            "      dtype='object', name=1)\n"
          ]
        }
      ]
    },
    {
      "cell_type": "markdown",
      "source": [
        "#6. Entraînement des modèles\n"
      ],
      "metadata": {
        "id": "BOk1JJu6VDkF"
      }
    },
    {
      "cell_type": "code",
      "source": [
        "# Ensure that the target variable `y` is numeric (integer type)\n",
        "y = y.astype(int)\n",
        "\n",
        "# Now split the data and train the models again\n",
        "X_train, X_test, y_train, y_test = train_test_split(X_selected, y, test_size=0.2, random_state=42)\n",
        "\n",
        "# XGBoost Model (Boosting)\n",
        "xgb_model = XGBClassifier()\n",
        "xgb_model.fit(X_train, y_train)\n",
        "xgb_predictions = xgb_model.predict(X_test)\n",
        "\n",
        "# Print evaluation metrics for XGBoost\n",
        "print(\"Accuracy XGBoost:\", accuracy_score(y_test, xgb_predictions))\n",
        "print(\"F1-Score XGBoost:\", f1_score(y_test, xgb_predictions))\n",
        "\n",
        "# Random Forest Model (Bagging)\n",
        "rf_model = RandomForestClassifier()\n",
        "rf_model.fit(X_train, y_train)\n",
        "rf_predictions = rf_model.predict(X_test)\n",
        "\n",
        "# Print evaluation metrics for Random Forest\n",
        "print(\"Accuracy Random Forest:\", accuracy_score(y_test, rf_predictions))\n",
        "print(\"F1-Score Random Forest:\", f1_score(y_test, rf_predictions))\n"
      ],
      "metadata": {
        "colab": {
          "base_uri": "https://localhost:8080/"
        },
        "id": "XiC7PN36VG2V",
        "outputId": "7ae689f8-ec86-4163-b5fc-11f50242300e"
      },
      "execution_count": 32,
      "outputs": [
        {
          "output_type": "stream",
          "name": "stdout",
          "text": [
            "Accuracy XGBoost: 0.7960526315789473\n",
            "F1-Score XGBoost: 0.869198312236287\n",
            "Accuracy Random Forest: 0.7697368421052632\n",
            "F1-Score Random Forest: 0.8484848484848484\n"
          ]
        }
      ]
    },
    {
      "cell_type": "markdown",
      "source": [
        "Hyperparameter Tuning"
      ],
      "metadata": {
        "id": "rSJPbl0_bqvT"
      }
    },
    {
      "cell_type": "code",
      "source": [
        "pip install --upgrade xgboost\n"
      ],
      "metadata": {
        "colab": {
          "base_uri": "https://localhost:8080/"
        },
        "id": "u-7P3BGHb2hZ",
        "outputId": "a70ee5ff-479c-4009-cffd-f6d382ff9f32"
      },
      "execution_count": 33,
      "outputs": [
        {
          "output_type": "stream",
          "name": "stdout",
          "text": [
            "Requirement already satisfied: xgboost in /usr/local/lib/python3.10/dist-packages (1.7.6)\n",
            "Collecting xgboost\n",
            "  Using cached xgboost-2.1.3-py3-none-manylinux_2_28_x86_64.whl.metadata (2.1 kB)\n",
            "Requirement already satisfied: numpy in /usr/local/lib/python3.10/dist-packages (from xgboost) (1.26.4)\n",
            "Requirement already satisfied: nvidia-nccl-cu12 in /usr/local/lib/python3.10/dist-packages (from xgboost) (2.23.4)\n",
            "Requirement already satisfied: scipy in /usr/local/lib/python3.10/dist-packages (from xgboost) (1.13.1)\n",
            "Using cached xgboost-2.1.3-py3-none-manylinux_2_28_x86_64.whl (153.9 MB)\n",
            "Installing collected packages: xgboost\n",
            "  Attempting uninstall: xgboost\n",
            "    Found existing installation: xgboost 1.7.6\n",
            "    Uninstalling xgboost-1.7.6:\n",
            "      Successfully uninstalled xgboost-1.7.6\n",
            "Successfully installed xgboost-2.1.3\n"
          ]
        }
      ]
    },
    {
      "cell_type": "code",
      "source": [
        "pip install scikit-learn==1.0.2\n"
      ],
      "metadata": {
        "colab": {
          "base_uri": "https://localhost:8080/"
        },
        "id": "3zgjqgISceH3",
        "outputId": "7724923b-9e02-49f9-9b59-f6bc52221f75"
      },
      "execution_count": 34,
      "outputs": [
        {
          "output_type": "stream",
          "name": "stdout",
          "text": [
            "Requirement already satisfied: scikit-learn==1.0.2 in /usr/local/lib/python3.10/dist-packages (1.0.2)\n",
            "Requirement already satisfied: numpy>=1.14.6 in /usr/local/lib/python3.10/dist-packages (from scikit-learn==1.0.2) (1.26.4)\n",
            "Requirement already satisfied: scipy>=1.1.0 in /usr/local/lib/python3.10/dist-packages (from scikit-learn==1.0.2) (1.13.1)\n",
            "Requirement already satisfied: joblib>=0.11 in /usr/local/lib/python3.10/dist-packages (from scikit-learn==1.0.2) (1.4.2)\n",
            "Requirement already satisfied: threadpoolctl>=2.0.0 in /usr/local/lib/python3.10/dist-packages (from scikit-learn==1.0.2) (3.5.0)\n"
          ]
        }
      ]
    },
    {
      "cell_type": "code",
      "source": [
        "import xgboost as xgb\n",
        "from sklearn.model_selection import RandomizedSearchCV\n",
        "import numpy as np\n",
        "\n",
        "# Define the parameter grid for RandomizedSearchCV\n",
        "xgb_param_grid = {\n",
        "    'max_depth': [3, 6, 9],\n",
        "    'learning_rate': [0.01, 0.1, 0.2],\n",
        "    'n_estimators': [100, 200],\n",
        "    'subsample': [0.7, 1.0]\n",
        "}\n",
        "\n",
        "# Instantiate the model\n",
        "xgb_model = xgb.XGBClassifier()\n",
        "\n",
        "# Use RandomizedSearchCV instead of GridSearchCV\n",
        "xgb_random_search = RandomizedSearchCV(estimator=xgb_model, param_distributions=xgb_param_grid, n_iter=10, cv=5, scoring='accuracy', n_jobs=-1)\n",
        "\n",
        "# Fit the model\n",
        "xgb_random_search.fit(X_train, y_train)\n",
        "\n",
        "# Output the best parameters and score\n",
        "print(\"Best parameters found: \", xgb_random_search.best_params_)\n",
        "print(\"Best score: \", xgb_random_search.best_score_)\n"
      ],
      "metadata": {
        "colab": {
          "base_uri": "https://localhost:8080/"
        },
        "id": "4brqWaPUbrcl",
        "outputId": "7fda6e05-6785-47d8-a628-039fca4116e0"
      },
      "execution_count": 35,
      "outputs": [
        {
          "output_type": "stream",
          "name": "stdout",
          "text": [
            "Best parameters found:  {'subsample': 1.0, 'n_estimators': 200, 'max_depth': 6, 'learning_rate': 0.1}\n",
            "Best score:  0.8013911845730026\n"
          ]
        }
      ]
    },
    {
      "cell_type": "code",
      "source": [
        "# Evaluate the model on the test set\n",
        "best_xgb_model = xgb_random_search.best_estimator_\n",
        "test_accuracy = best_xgb_model.score(X_test, y_test)\n",
        "print(f\"Test accuracy: {test_accuracy}\")\n",
        "\n",
        "# Make predictions and evaluate other metrics like F1-Score, Precision, Recall, ROC-AUC\n",
        "from sklearn.metrics import f1_score, precision_score, recall_score, roc_auc_score\n",
        "\n",
        "y_pred = best_xgb_model.predict(X_test)\n",
        "\n",
        "print(\"F1-Score: \", f1_score(y_test, y_pred))\n",
        "print(\"Precision: \", precision_score(y_test, y_pred))\n",
        "print(\"Recall: \", recall_score(y_test, y_pred))\n",
        "print(\"ROC-AUC: \", roc_auc_score(y_test, y_pred))\n"
      ],
      "metadata": {
        "colab": {
          "base_uri": "https://localhost:8080/"
        },
        "id": "fKKND_ISdF-z",
        "outputId": "1fab5083-db32-4bf0-f8a9-2cb93b29c348"
      },
      "execution_count": 36,
      "outputs": [
        {
          "output_type": "stream",
          "name": "stdout",
          "text": [
            "Test accuracy: 0.7763157894736842\n",
            "F1-Score:  0.8547008547008548\n",
            "Precision:  0.8333333333333334\n",
            "Recall:  0.8771929824561403\n",
            "ROC-AUC:  0.6754385964912281\n"
          ]
        }
      ]
    },
    {
      "cell_type": "markdown",
      "source": [
        "#7. Validation croisée\n",
        "\n"
      ],
      "metadata": {
        "id": "y2qT9YL-VWG3"
      }
    },
    {
      "cell_type": "code",
      "source": [
        "from sklearn.model_selection import cross_val_score\n",
        "\n",
        "# Cross-validation for the best XGBoost model\n",
        "cv_scores = cross_val_score(best_xgb_model, X_scaled, y, cv=5, scoring='accuracy')\n",
        "\n",
        "print(\"Cross-validation scores: \", cv_scores)\n",
        "print(\"Mean cross-validation score: \", cv_scores.mean())\n"
      ],
      "metadata": {
        "colab": {
          "base_uri": "https://localhost:8080/"
        },
        "id": "K2G0QfSCdNt4",
        "outputId": "f90f09b7-4d55-49a5-b41e-9ce9c4ee8551"
      },
      "execution_count": 37,
      "outputs": [
        {
          "output_type": "stream",
          "name": "stdout",
          "text": [
            "Cross-validation scores:  [0.82236842 0.86754967 0.8410596  0.8410596  0.78145695]\n",
            "Mean cross-validation score:  0.8306988497734402\n"
          ]
        }
      ]
    },
    {
      "cell_type": "markdown",
      "source": [
        "Compare with random forest"
      ],
      "metadata": {
        "id": "4Hw4hxDhdgUh"
      }
    },
    {
      "cell_type": "code",
      "source": [
        "from sklearn.ensemble import RandomForestClassifier\n",
        "from sklearn.model_selection import RandomizedSearchCV\n",
        "\n",
        "# Define the parameter grid for RandomizedSearchCV\n",
        "rf_param_grid = {\n",
        "    'n_estimators': [100, 200, 300],\n",
        "    'max_depth': [None, 10, 20, 30],\n",
        "    'min_samples_split': [2, 5, 10],\n",
        "    'min_samples_leaf': [1, 2, 4],\n",
        "    'bootstrap': [True, False]\n",
        "}\n",
        "\n",
        "# Instantiate the model\n",
        "rf_model = RandomForestClassifier()\n",
        "\n",
        "# Use RandomizedSearchCV for hyperparameter tuning\n",
        "rf_random_search = RandomizedSearchCV(estimator=rf_model, param_distributions=rf_param_grid, n_iter=10, cv=5, scoring='accuracy', n_jobs=-1)\n",
        "\n",
        "# Fit the model\n",
        "rf_random_search.fit(X_train, y_train)\n",
        "\n",
        "# Output the best parameters and score\n",
        "print(\"Best parameters for Random Forest found: \", rf_random_search.best_params_)\n",
        "print(\"Best score for Random Forest: \", rf_random_search.best_score_)\n",
        "\n",
        "# Assuming you've already tuned the Random Forest model and stored it in rf_random_search\n",
        "best_rf_model = rf_random_search.best_estimator_\n",
        "\n",
        "# Evaluate Random Forest on the test set\n",
        "rf_test_accuracy = best_rf_model.score(X_test, y_test)\n",
        "print(f\"Random Forest Test Accuracy: {rf_test_accuracy}\")\n",
        "\n",
        "# Compare other metrics\n",
        "rf_y_pred = best_rf_model.predict(X_test)\n",
        "\n",
        "print(\"Random Forest F1-Score: \", f1_score(y_test, rf_y_pred))\n",
        "print(\"Random Forest Precision: \", precision_score(y_test, rf_y_pred))\n",
        "print(\"Random Forest Recall: \", recall_score(y_test, rf_y_pred))\n",
        "print(\"Random Forest ROC-AUC: \", roc_auc_score(y_test, rf_y_pred))\n"
      ],
      "metadata": {
        "colab": {
          "base_uri": "https://localhost:8080/"
        },
        "id": "x4AnqqN_dfLu",
        "outputId": "4ee58449-b196-464f-bb8f-0b4b56d0b4d3"
      },
      "execution_count": 39,
      "outputs": [
        {
          "output_type": "stream",
          "name": "stdout",
          "text": [
            "Best parameters for Random Forest found:  {'n_estimators': 200, 'min_samples_split': 10, 'min_samples_leaf': 2, 'max_depth': 30, 'bootstrap': True}\n",
            "Best score for Random Forest:  0.7963636363636363\n",
            "Random Forest Test Accuracy: 0.7631578947368421\n",
            "Random Forest F1-Score:  0.8461538461538461\n",
            "Random Forest Precision:  0.825\n",
            "Random Forest Recall:  0.868421052631579\n",
            "Random Forest ROC-AUC:  0.6578947368421053\n"
          ]
        }
      ]
    },
    {
      "cell_type": "markdown",
      "source": [
        "#Visualizations"
      ],
      "metadata": {
        "id": "MbS147kId8fY"
      }
    },
    {
      "cell_type": "code",
      "source": [
        "import matplotlib.pyplot as plt\n",
        "import numpy as np\n",
        "\n",
        "# Get the importance of features from the best XGBoost model\n",
        "xgb_importance = best_xgb_model.feature_importances_\n",
        "\n",
        "# Get the indices of the top 10 features\n",
        "top_10_indices = np.argsort(xgb_importance)[-10:]\n",
        "\n",
        "# Get the top 10 feature names\n",
        "top_10_features = X.columns[top_10_indices]\n",
        "\n",
        "# Plot the feature importances\n",
        "plt.barh(range(10), xgb_importance[top_10_indices])\n",
        "plt.yticks(range(10), top_10_features)\n",
        "plt.xlabel('Feature Importance')\n",
        "plt.title('Top 10 Feature Importances from XGBoost')\n",
        "plt.show()\n"
      ],
      "metadata": {
        "colab": {
          "base_uri": "https://localhost:8080/",
          "height": 472
        },
        "id": "6GrFZKbad585",
        "outputId": "09cf1bf9-6d1b-4c98-9250-d46152aa42cd"
      },
      "execution_count": 41,
      "outputs": [
        {
          "output_type": "display_data",
          "data": {
            "text/plain": [
              "<Figure size 640x480 with 1 Axes>"
            ],
            "image/png": "[encoded data removed]"
          },
          "metadata": {}
        }
      ]
    },
    {
      "cell_type": "markdown",
      "source": [],
      "metadata": {
        "id": "JN69oV4KVjr7"
      }
    }
  ]
}